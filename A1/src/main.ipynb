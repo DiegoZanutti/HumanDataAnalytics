{
  "nbformat": 4,
  "nbformat_minor": 0,
  "metadata": {
    "colab": {
      "provenance": []
    },
    "kernelspec": {
      "name": "python3",
      "display_name": "Python 3"
    },
    "language_info": {
      "name": "python"
    }
  },
  "cells": [
    {
      "cell_type": "code",
      "execution_count": null,
      "metadata": {
        "id": "nnpzRhQmg_vq"
      },
      "outputs": [],
      "source": [
        "from data.data_segmentation import DataSegmentation\n",
        "from data.data_loader import DataLoader\n",
        "import pandas as pd\n",
        "from collections import Counter\n",
        "import tensorflow as tf\n",
        "from utils.activity_type import ActivityType\n",
        "from utils.build import Build\n",
        "from utils.train import Train\n",
        "from utils.performance import Performance\n",
        "import numpy as np\n",
        "import random as rn\n",
        "\n",
        "tf.compat.v1.disable_eager_execution()\n",
        "np.random.seed(42)\n",
        "rn.seed(12345)\n",
        "tf.random.set_seed(1234)\n",
        "\n",
        "def main():\n",
        "\n",
        "    # Output classes to learn how to classify\n",
        "    LABELS = [\n",
        "        \"Walking\",\n",
        "        \"Descending Stairs\",\n",
        "        \"Ascending Stairs\"\n",
        "    ]\n",
        "\n",
        "    data_loader = DataLoader(\"dataset/labeled-raw-accelerometry-data-captured-during-walking-stair-climbing-and-driving-1.0.0/raw_accelerometry_data\")\n",
        "    data_loader.download_data()\n",
        "    data_loader.read_files()\n",
        "\n",
        "    data_seg = DataSegmentation(window_duration=2.56, overlap=0.5, sampling_rate=50)\n",
        "\n",
        "\n",
        "    train_data_X,train_data_y = data_seg(data_loader.train_data)\n",
        "    test_data_X,test_data_y = data_seg(data_loader.test_data)\n",
        "\n",
        "    print(\"train_data_X.shape:\",train_data_X.shape)\n",
        "\n",
        "    label_mapping = ActivityType.create_label_mapping()\n",
        "    print(\"label_mapping:\",label_mapping)\n",
        "\n",
        "    one_hot_encoded_train_y = ActivityType.one_hot(train_data_y, label_mapping)\n",
        "    one_hot_encoded_test_y = ActivityType.one_hot(test_data_y, label_mapping)\n",
        "\n",
        "    final_train_y = one_hot_encoded_train_y.reshape(one_hot_encoded_train_y.shape[0],-1)\n",
        "    final_test_y = one_hot_encoded_test_y.reshape(one_hot_encoded_test_y.shape[0],-1)\n",
        "\n",
        "    builder = Build(train_data_X,test_data_X,final_train_y,final_test_y)\n",
        "    X, Y, accuracy, cost, optimizer, config, pred_Y = builder.build()\n",
        "    trainer = Train(config,optimizer,pred_Y,cost,accuracy,test_data_X,final_test_y,train_data_X,final_train_y,X,Y)\n",
        "    train_losses, train_accuracies, test_losses, test_accuracies = trainer.train()\n",
        "    print(\"test_accuracy:\",test_accuracies)\n",
        "    performance = Performance(config)\n",
        "    performance.plot_performance(train_losses, train_accuracies, test_losses, test_accuracies)\n",
        "\n",
        "\n",
        "if __name__ == \"__main__\":\n",
        "    main()"
      ]
    }
  ]
}