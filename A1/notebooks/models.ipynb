{
 "cells": [
  {
   "attachments": {},
   "cell_type": "markdown",
   "metadata": {},
   "source": [
    "## BASELINE CNN\n",
    "- 思路：先做Jupyterbooks，有了运行结果后放进class跑。11号今天写CNN并跑出基本结果。\n",
    "- train (5509260, 14) , validation (1836420, 14) , test (1836420, 14)"
   ]
  },
  {
   "cell_type": "code",
   "execution_count": 1,
   "metadata": {},
   "outputs": [],
   "source": [
    "import pandas as pd\n",
    "import numpy as np\n",
    "import matplotlib.pyplot as plt\n",
    "from scipy import stats\n",
    "import tensorflow as tf\n",
    "\n",
    "%matplotlib inline\n",
    "plt.style.use('ggplot')\n"
   ]
  },
  {
   "cell_type": "code",
   "execution_count": null,
   "metadata": {},
   "outputs": [],
   "source": []
  },
  {
   "cell_type": "code",
   "execution_count": 2,
   "metadata": {},
   "outputs": [],
   "source": [
    "train_path = '../src/train.csv'\n",
    "valid_path = '../src/validation.csv'\n",
    "test_path = '../src/test.csv'\n",
    "combined_path = '../src/combined_file.csv'"
   ]
  },
  {
   "cell_type": "code",
   "execution_count": null,
   "metadata": {},
   "outputs": [],
   "source": []
  },
  {
   "cell_type": "code",
   "execution_count": 3,
   "metadata": {},
   "outputs": [],
   "source": [
    "def read_data(file_path):\n",
    "    # column_names = ['subject','activity','time_s', 'lw_x','lw_y','lw_z','lh_x','lh_y','lh_z','la_x','la_y','la_z','ra_x','ra_y','ra_z']\n",
    "    data = pd.read_csv(file_path,header = 0)\n",
    "    return data\n",
    "# def feature_normalize(dataset):\n",
    "#     mu = np.mean(dataset,axis = 0)\n",
    "#     sigma = np.std(dataset,axis = 0)\n",
    "#     return (dataset - mu)/sigma\n",
    "\n",
    "def plot_axis(ax, x, y, title):\n",
    "    ax.plot(x, y)\n",
    "    ax.set_title(title)\n",
    "    ax.xaxis.set_visible(False)\n",
    "    ax.set_ylim([min(y) - np.std(y), max(y) + np.std(y)])\n",
    "    ax.set_xlim([min(x), max(x)])\n",
    "    ax.grid(True)\n",
    "    \n",
    "def plot_activity(activity,data):\n",
    "    fig, (ax0, ax1, ax2, ax3) = plt.subplots(nrows = 4, figsize = (15, 10), sharex = True)\n",
    "    plot_axis(ax0, data['time_s'], data['magnitude_lw'], 'magnitude_lw')\n",
    "    plot_axis(ax1, data['time_s'], data['magnitude_lh'], 'magnitude_lh')\n",
    "    plot_axis(ax2, data['time_s'], data['magnitude_la'], 'magnitude_la')\n",
    "    plot_axis(ax3, data['time_s'], data['magnitude_ra'], 'magnitude_ra')\n",
    "    plt.subplots_adjust(hspace=0.2)\n",
    "    fig.suptitle(activity)\n",
    "    plt.subplots_adjust(top=0.90)\n",
    "    plt.show()\n"
   ]
  },
  {
   "cell_type": "code",
   "execution_count": 4,
   "metadata": {},
   "outputs": [],
   "source": [
    "train_df = read_data(train_path)\n"
   ]
  },
  {
   "cell_type": "code",
   "execution_count": 5,
   "metadata": {},
   "outputs": [],
   "source": [
    "# for activity in np.unique(train_df[\"activity\"]):\n",
    "#     subset = train_df[train_df[\"activity\"] == activity][:180]\n",
    "#     # plot_activity(activity,subset)"
   ]
  },
  {
   "cell_type": "code",
   "execution_count": 6,
   "metadata": {},
   "outputs": [
    {
     "name": "stdout",
     "output_type": "stream",
     "text": [
      "Number of input channels: 4\n",
      "magnitude_data.shape, (11018034, 4)\n"
     ]
    }
   ],
   "source": [
    "magnitude_columns = ['magnitude_lw', 'magnitude_lh', 'magnitude_la', 'magnitude_ra']\n",
    "activity_column = 'activity'\n",
    "\n",
    "# Get the magnitude data\n",
    "magnitude_data = train_df[magnitude_columns].values\n",
    "\n",
    "# Get the activity data\n",
    "activity_data = train_df[activity_column].values\n",
    "\n",
    "# Concatenate magnitude and activity data along the channel axis\n",
    "input_data = np.concatenate([magnitude_data, activity_data[:, np.newaxis]], axis=-1)\n",
    "\n",
    "num_channels = magnitude_data[0].shape[-1]\n",
    "print(\"Number of input channels:\", num_channels)\n",
    "\n",
    "\n",
    "print('magnitude_data.shape,',magnitude_data.shape)\n",
    "# Determine the shape of the magnitude data\n",
    "H, W = magnitude_data.shape\n",
    "\n",
    "\n",
    "N = 64\n",
    "# # Reshape input data to the expected shape (batch_size, height, width, channels)\n",
    "# input_data = input_data.reshape(N, H, W, -1)\n",
    "\n",
    "# # Convert input data to a TensorFlow tensor\n",
    "input_tensor = tf.constant(input_data, dtype=tf.float32)\n"
   ]
  },
  {
   "cell_type": "code",
   "execution_count": 7,
   "metadata": {},
   "outputs": [],
   "source": [
    "import tensorflow as tf\n",
    "\n",
    "class CNNModel(tf.Module):\n",
    "    def __init__(self,channels,height,width,num_classes):\n",
    "        self.conv1_weights = tf.Variable(tf.random.normal([3, 3, channels, 32]))\n",
    "        self.conv1_biases = tf.Variable(tf.zeros([32]))\n",
    "        self.conv2_weights = tf.Variable(tf.random.normal([3, 3, 32, 64]))\n",
    "        self.conv2_biases = tf.Variable(tf.zeros([64]))\n",
    "        self.fc1_weights = tf.Variable(tf.random.normal([height // 4 * width // 4 * 64, 64]))\n",
    "        self.fc1_biases = tf.Variable(tf.zeros([64]))\n",
    "        self.fc2_weights = tf.Variable(tf.random.normal([64, num_classes]))\n",
    "        self.fc2_biases = tf.Variable(tf.zeros([num_classes]))\n",
    "        self.height = height\n",
    "        self.width = width\n",
    "\n",
    "\n",
    "    def __call__(self, inputs):\n",
    "        x = tf.nn.conv2d(inputs, self.conv1_weights, strides=[1, 1, 1, 1], padding='SAME')\n",
    "        x = tf.nn.relu(tf.nn.bias_add(x, self.conv1_biases))\n",
    "        x = tf.nn.max_pool2d(x, ksize=[1, 2, 2, 1], strides=[1, 2, 2, 1], padding='SAME')\n",
    "\n",
    "        x = tf.nn.conv2d(x, self.conv2_weights, strides=[1, 1, 1, 1], padding='SAME')\n",
    "        x = tf.nn.relu(tf.nn.bias_add(x, self.conv2_biases))\n",
    "        x = tf.nn.max_pool2d(x, ksize=[1, 2, 2, 1], strides=[1, 2, 2, 1], padding='SAME')\n",
    "\n",
    "        x = tf.reshape(x, [-1, self.height // 4 * self.width // 4 * 64])\n",
    "        x = tf.nn.relu(tf.matmul(x, self.fc1_weights) + self.fc1_biases)\n",
    "\n",
    "        output = tf.matmul(x, self.fc2_weights) + self.fc2_biases\n",
    "        return output\n",
    "\n",
    "\n",
    "\n"
   ]
  },
  {
   "cell_type": "code",
   "execution_count": 8,
   "metadata": {},
   "outputs": [
    {
     "ename": "",
     "evalue": "",
     "output_type": "error",
     "traceback": [
      "\u001b[1;31mCannot execute code, session has been disposed. Please try restarting the Kernel."
     ]
    },
    {
     "ename": "",
     "evalue": "",
     "output_type": "error",
     "traceback": [
      "\u001b[1;31mThe Kernel crashed while executing code in the the current cell or a previous cell. Please review the code in the cell(s) to identify a possible cause of the failure. Click <a href='https://aka.ms/vscodeJupyterKernelCrash'>here</a> for more info. View Jupyter <a href='command:jupyter.viewOutput'>log</a> for further details."
     ]
    }
   ],
   "source": [
    "# Instantiate the model\n",
    "model = CNNModel(4,H,W,6)\n",
    "# # Pass the input tensor through the model\n",
    "output = model(input_tensor)"
   ]
  },
  {
   "cell_type": "code",
   "execution_count": null,
   "metadata": {},
   "outputs": [],
   "source": [
    "\n"
   ]
  }
 ],
 "metadata": {
  "kernelspec": {
   "display_name": "HDA",
   "language": "python",
   "name": "python3"
  },
  "language_info": {
   "codemirror_mode": {
    "name": "ipython",
    "version": 3
   },
   "file_extension": ".py",
   "mimetype": "text/x-python",
   "name": "python",
   "nbconvert_exporter": "python",
   "pygments_lexer": "ipython3",
   "version": "3.8.10"
  },
  "orig_nbformat": 4
 },
 "nbformat": 4,
 "nbformat_minor": 2
}
